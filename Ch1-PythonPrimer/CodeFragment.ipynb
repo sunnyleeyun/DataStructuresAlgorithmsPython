{
 "cells": [
  {
   "cell_type": "code",
   "execution_count": 4,
   "id": "6244e01b",
   "metadata": {},
   "outputs": [
    {
     "name": "stdout",
     "output_type": "stream",
     "text": [
      "Welcome to the GPA calculator\n",
      "Please enter all your letter grades, one per line\n",
      "Enter a blank line to designate the end\n",
      "A-\n",
      "B+\n",
      "\n",
      "Your GPA is 3.5\n"
     ]
    }
   ],
   "source": [
    "# Code Fragment 1.1\n",
    "print('Welcome to the GPA calculator')\n",
    "print('Please enter all your letter grades, one per line')\n",
    "print('Enter a blank line to designate the end')\n",
    "points = {'A+': 4.0, 'A': 4.0, 'A-': 3.67, 'B+': 3.33, 'B': 3.0, 'B-':2.67,\n",
    "          'C+': 2.33, 'C': 2.0, 'C-': 1.67, 'D+': 1.33, 'D': 1.0, 'F': 0.0}\n",
    "num_courses = 0\n",
    "total_points = 0\n",
    "done = False\n",
    "while not done: \n",
    "    grade = input()\n",
    "    if grade == '':\n",
    "        done = True\n",
    "    elif grade not in points:\n",
    "        print(\"Unknown grade '{0}' being ignored\".format(grade))\n",
    "    else:\n",
    "        num_courses += 1\n",
    "        total_points += points[grade]\n",
    "    \n",
    "if num_courses > 0:\n",
    "    print('Your GPA is {0:.3}'.format(total_points / num_courses))\n"
   ]
  },
  {
   "cell_type": "code",
   "execution_count": 5,
   "id": "f9577b2a",
   "metadata": {},
   "outputs": [
    {
     "data": {
      "text/plain": [
       "4.0"
      ]
     },
     "execution_count": 5,
     "metadata": {},
     "output_type": "execute_result"
    }
   ],
   "source": [
    "# Code Fragment 1.2\n",
    "def compute_gpa(grades, points = {'A+': 4.0, 'A': 4.0, 'A-': 3.67, 'B+': 3.33, 'B': 3.0, 'B-':2.67,\n",
    "          'C+': 2.33, 'C': 2.0, 'C-': 1.67, 'D+': 1.33, 'D': 1.0, 'F': 0.0}):\n",
    "    num_courses = 0\n",
    "    total_points = 0\n",
    "    for g in grades:\n",
    "        if g in points:\n",
    "            num_courses += 1\n",
    "            total_points += points[g]\n",
    "    return total_points / num_courses\n",
    "    \n",
    "grades = ['A+', 'A']\n",
    "compute_gpa(grades)\n"
   ]
  },
  {
   "cell_type": "code",
   "execution_count": null,
   "id": "1348f7a5",
   "metadata": {},
   "outputs": [],
   "source": []
  }
 ],
 "metadata": {
  "kernelspec": {
   "display_name": "Python 3 (ipykernel)",
   "language": "python",
   "name": "python3"
  },
  "language_info": {
   "codemirror_mode": {
    "name": "ipython",
    "version": 3
   },
   "file_extension": ".py",
   "mimetype": "text/x-python",
   "name": "python",
   "nbconvert_exporter": "python",
   "pygments_lexer": "ipython3",
   "version": "3.9.1"
  }
 },
 "nbformat": 4,
 "nbformat_minor": 5
}
